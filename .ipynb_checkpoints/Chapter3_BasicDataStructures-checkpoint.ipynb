{
 "cells": [
  {
   "cell_type": "markdown",
   "metadata": {},
   "source": [
    "## Stack"
   ]
  },
  {
   "cell_type": "code",
   "execution_count": 42,
   "metadata": {},
   "outputs": [],
   "source": [
    "class Stack:\n",
    "\n",
    "    def __init__(self):\n",
    "        self.items = []\n",
    "\n",
    "    def isEmpty(self):\n",
    "        return self.items == []\n",
    "\n",
    "    def push(self, item):\n",
    "        self.items.append(item)\n",
    "\n",
    "    def pop(self):\n",
    "        return self.items.pop()\n",
    "\n",
    "    def peek(self):\n",
    "        if len(self.items) > 0:\n",
    "            return self.items[-1]\n",
    "        else:\n",
    "            print('Stack is Empty')\n",
    "\n",
    "    def size(self):\n",
    "        return len(self.items)"
   ]
  },
  {
   "cell_type": "code",
   "execution_count": 43,
   "metadata": {},
   "outputs": [
    {
     "name": "stdout",
     "output_type": "stream",
     "text": [
      "Stack is Empty\n",
      "None\n",
      "True\n",
      "dog\n"
     ]
    }
   ],
   "source": [
    "s = Stack()\n",
    "\n",
    "print(s.peek())\n",
    "print(s.isEmpty())\n",
    "\n",
    "s.push(4)\n",
    "s.push('dog')\n",
    "print(s.peek())"
   ]
  },
  {
   "cell_type": "markdown",
   "metadata": {},
   "source": [
    "### Write a function revstring(mystr) that uses a stack to reverse the characters in a string."
   ]
  },
  {
   "cell_type": "code",
   "execution_count": 44,
   "metadata": {},
   "outputs": [],
   "source": [
    "\n",
    "def revstring(mystr):\n",
    "    str_stack = Stack()\n",
    "    for s in mystr:\n",
    "        str_stack.push(s)\n",
    "        \n",
    "    rev_str = ''\n",
    "    for s in range(len(mystr)):\n",
    "        rev_str += str_stack.peek()\n",
    "        str_stack.pop()\n",
    "        \n",
    "    return rev_str"
   ]
  },
  {
   "cell_type": "code",
   "execution_count": 45,
   "metadata": {},
   "outputs": [
    {
     "name": "stdout",
     "output_type": "stream",
     "text": [
      "987654321\n"
     ]
    }
   ],
   "source": [
    "print(revstring('123456789'))"
   ]
  },
  {
   "cell_type": "markdown",
   "metadata": {},
   "source": [
    "### Checking Valid Parenthesis"
   ]
  },
  {
   "cell_type": "code",
   "execution_count": 46,
   "metadata": {},
   "outputs": [],
   "source": [
    "def parChecker(SymbolStr):\n",
    "    \n",
    "    my_stack = Stack()\n",
    "    len_str = len(SymbolStr)\n",
    "    balanced = True\n",
    "    idx = 0\n",
    "    \n",
    "    while idx < len_str and balanced:\n",
    "        if SymbolStr[idx] == '(':\n",
    "            symbol = SymbolStr[idx]\n",
    "            my_stack.push(symbol)\n",
    "            \n",
    "        else:\n",
    "            if my_stack.isEmpty():\n",
    "                balanced = False\n",
    "            else:\n",
    "                my_stack.pop()\n",
    "        \n",
    "        idx += 1\n",
    "        \n",
    "    if balanced and my_stack.isEmpty():\n",
    "        return True\n",
    "    else:\n",
    "        return False"
   ]
  },
  {
   "cell_type": "code",
   "execution_count": 47,
   "metadata": {},
   "outputs": [
    {
     "name": "stdout",
     "output_type": "stream",
     "text": [
      "True\n",
      "False\n"
     ]
    }
   ],
   "source": [
    "print(parChecker('((()))'))\n",
    "print(parChecker('(()()()'))"
   ]
  },
  {
   "cell_type": "code",
   "execution_count": 50,
   "metadata": {},
   "outputs": [],
   "source": [
    "def parChecker2(SymbolStr):\n",
    "    \n",
    "    my_stack = Stack()\n",
    "    len_str = len(SymbolStr)\n",
    "    balanced = True\n",
    "    idx = 0\n",
    "    \n",
    "    while idx < len_str and balanced:\n",
    "        symbol = SymbolStr[idx]\n",
    "        if SymbolStr[idx] in '[({':\n",
    "            my_stack.push(symbol)\n",
    "            \n",
    "        else:\n",
    "            if my_stack.isEmpty():\n",
    "                balanced = False\n",
    "            else:\n",
    "                top = my_stack.pop()\n",
    "                if not matches(top, symbol):\n",
    "                    balanced = False\n",
    "                \n",
    "        idx += 1\n",
    "        \n",
    "    if balanced and my_stack.isEmpty():\n",
    "        return True\n",
    "    else:\n",
    "        return False\n",
    "    \n",
    "def matches(open, close):\n",
    "    opens = \"([{\"\n",
    "    closers = \")]}\"\n",
    "    return opens.index(open) == closers.index(close)\n",
    "        "
   ]
  },
  {
   "cell_type": "code",
   "execution_count": 49,
   "metadata": {},
   "outputs": [
    {
     "name": "stdout",
     "output_type": "stream",
     "text": [
      "True\n",
      "False\n"
     ]
    }
   ],
   "source": [
    "print(parChecker2('[{((()))}]'))\n",
    "print(parChecker2('(()()()'))"
   ]
  },
  {
   "cell_type": "markdown",
   "metadata": {},
   "source": [
    "### Divide by 2"
   ]
  },
  {
   "cell_type": "code",
   "execution_count": 53,
   "metadata": {},
   "outputs": [
    {
     "name": "stdout",
     "output_type": "stream",
     "text": [
      "101010\n"
     ]
    }
   ],
   "source": [
    "def DivideBy2(decNumber):\n",
    "    \n",
    "    rem_stack = Stack()\n",
    "    \n",
    "    while decNumber > 0:\n",
    "        rem = decNumber % 2\n",
    "        rem_stack.push(rem)\n",
    "        decNumber = decNumber // 2\n",
    "        \n",
    "    binString = \"\"\n",
    "    while not rem_stack.isEmpty():\n",
    "        binString = binString + str(rem_stack.pop())\n",
    "        \n",
    "    return binString\n",
    "\n",
    "print(DivideBy2(42))\n",
    "    \n",
    "    "
   ]
  },
  {
   "cell_type": "markdown",
   "metadata": {},
   "source": [
    "### Generalizing DivideBy2"
   ]
  },
  {
   "cell_type": "code",
   "execution_count": 58,
   "metadata": {},
   "outputs": [
    {
     "name": "stdout",
     "output_type": "stream",
     "text": [
      "10\n"
     ]
    }
   ],
   "source": [
    "def baseConverter(decNumber, base):\n",
    "    \n",
    "    digits = \"0123456789ABCDEF\"\n",
    "    \n",
    "    rem_stack = Stack()\n",
    "    \n",
    "    while decNumber > 0:\n",
    "        rem = decNumber % base\n",
    "        rem_stack.push(rem)\n",
    "        decNumber = decNumber // base\n",
    "        \n",
    "    binString = \"\"\n",
    "    while not rem_stack.isEmpty():\n",
    "        binString = binString + digits[rem_stack.pop()]\n",
    "        \n",
    "    return binString\n",
    "\n",
    "print(baseConverter(26, 26))"
   ]
  },
  {
   "cell_type": "markdown",
   "metadata": {},
   "source": [
    "# Queue "
   ]
  },
  {
   "cell_type": "code",
   "execution_count": 1,
   "metadata": {},
   "outputs": [],
   "source": [
    "class Queue:\n",
    "    \n",
    "    def __init__(self):\n",
    "        self.items = []\n",
    "        \n",
    "    def isEmpty(self):\n",
    "        return self.items == []\n",
    "    \n",
    "    def enqueue(self, item):\n",
    "        self.items.insert(0, item)\n",
    "        \n",
    "    def dequeue(self):\n",
    "        return self.items.pop()\n",
    "    \n",
    "    def size(self):\n",
    "        return len(self.items)\n",
    "    "
   ]
  },
  {
   "cell_type": "code",
   "execution_count": 2,
   "metadata": {},
   "outputs": [
    {
     "name": "stdout",
     "output_type": "stream",
     "text": [
      "3\n"
     ]
    }
   ],
   "source": [
    "q=Queue()\n",
    "q.enqueue(4)\n",
    "q.enqueue('dog')\n",
    "q.enqueue(True)\n",
    "print(q.size())"
   ]
  },
  {
   "cell_type": "code",
   "execution_count": 3,
   "metadata": {},
   "outputs": [
    {
     "data": {
      "text/plain": [
       "<__main__.Queue at 0x1f0d735f748>"
      ]
     },
     "execution_count": 3,
     "metadata": {},
     "output_type": "execute_result"
    }
   ],
   "source": [
    "q"
   ]
  },
  {
   "cell_type": "code",
   "execution_count": 5,
   "metadata": {},
   "outputs": [
    {
     "name": "stdout",
     "output_type": "stream",
     "text": [
      "[True, 'dog', 4]\n"
     ]
    }
   ],
   "source": [
    "print(q.items)\n"
   ]
  },
  {
   "cell_type": "markdown",
   "metadata": {},
   "source": [
    "## HotPotato"
   ]
  },
  {
   "cell_type": "code",
   "execution_count": 6,
   "metadata": {},
   "outputs": [
    {
     "name": "stdout",
     "output_type": "stream",
     "text": [
      "Susan\n"
     ]
    }
   ],
   "source": [
    "def hotPotato(namelist, num):\n",
    "    \n",
    "    sim_q = Queue()\n",
    "    for name in namelist:\n",
    "        sim_q.enqueue(name)\n",
    "        \n",
    "    while sim_q.size() > 1:\n",
    "        for i in range(num):\n",
    "            sim_q.enqueue(sim_q.dequeue())\n",
    "            \n",
    "        sim_q.dequeue()\n",
    "        \n",
    "    return sim_q.dequeue()\n",
    "    \n",
    "print(hotPotato([\"Bill\",\"David\",\"Susan\",\"Jane\",\"Kent\",\"Brad\"],7))"
   ]
  },
  {
   "cell_type": "markdown",
   "metadata": {},
   "source": [
    "## Printing Task"
   ]
  },
  {
   "cell_type": "code",
   "execution_count": 7,
   "metadata": {},
   "outputs": [],
   "source": [
    "class Printer:\n",
    "    \n",
    "    def __init__(self, ppm):\n",
    "        self.pagerate = ppm\n",
    "        self.currentTask = None\n",
    "        self.timeRemaining = 0\n",
    "        \n",
    "    def tick(self):\n",
    "        if self.currentTask != None:\n",
    "            self.timeRemaining = self.timeRemaining - 1\n",
    "            if self.timeRemaining <= 0:\n",
    "                self.currentTask = None\n",
    "                \n",
    "    def busy(self):\n",
    "        if self.currentTask != None:\n",
    "            return True\n",
    "        else:\n",
    "            return False\n",
    "    \n",
    "    def startNext(self, newtask):\n",
    "        self.currentTask = newtask\n",
    "        self.timeRemaining = newtask.getPages() * (60/self.pagerate)\n"
   ]
  },
  {
   "cell_type": "code",
   "execution_count": 9,
   "metadata": {},
   "outputs": [],
   "source": [
    "import random\n",
    "\n",
    "class Task:\n",
    "    def __init__(self, time):\n",
    "        self.timestamp = time\n",
    "        self.pages = random.randrange(1,21)\n",
    "        \n",
    "    def getStamp(self):\n",
    "        return self.timestamp\n",
    "    \n",
    "    def getPages(self):\n",
    "        return self.pages\n",
    "    \n",
    "    def waitTime(self, currentTime):\n",
    "        return currentTime - self.timestamp"
   ]
  },
  {
   "cell_type": "code",
   "execution_count": 10,
   "metadata": {},
   "outputs": [],
   "source": [
    "def simulation(numSeconds, pagesPerMinute):\n",
    "    \n",
    "    labprinter = Printer(pagesPerMinute)\n",
    "    printQueue = Queue()\n",
    "    waitingTimes = []\n",
    "    \n",
    "    for currentSecond in range(numSeconds):\n",
    "        if newPrintTask():\n",
    "            task = Task(currentSecond)\n",
    "            printQueue.enqueue(task)\n",
    "            \n",
    "        if (not labprinter.busy()) and (not printQueue.isEmpty()):\n",
    "            nexttask = printQueue.dequeue()\n",
    "            waitingTimes.append(nexttask.waitTime(currentSecond))\n",
    "            labprinter.startNext(nexttask)\n",
    "            \n",
    "        labprinter.tick()\n",
    "        \n",
    "    averageWait = sum(waitingTimes)/len(waitingTimes)\n",
    "    print(\"Average Wait %6.2f secs %3d tasks remaining.\"%(averageWait,printQueue.size()))\n",
    "    \n",
    "\n",
    "def newPrintTask():\n",
    "    num = random.randrange(1,181)\n",
    "    if num == 180:\n",
    "        return True\n",
    "    else:\n",
    "        return False\n",
    "    "
   ]
  },
  {
   "cell_type": "code",
   "execution_count": 14,
   "metadata": {},
   "outputs": [
    {
     "name": "stdout",
     "output_type": "stream",
     "text": [
      "Average Wait  35.80 secs   0 tasks remaining.\n",
      "Average Wait  11.61 secs   0 tasks remaining.\n",
      "Average Wait  23.05 secs   0 tasks remaining.\n",
      "Average Wait  31.67 secs   0 tasks remaining.\n",
      "Average Wait  51.70 secs   0 tasks remaining.\n",
      "Average Wait  13.95 secs   0 tasks remaining.\n",
      "Average Wait  14.89 secs   0 tasks remaining.\n",
      "Average Wait  20.63 secs   0 tasks remaining.\n",
      "Average Wait  11.24 secs   0 tasks remaining.\n",
      "Average Wait   8.73 secs   0 tasks remaining.\n"
     ]
    }
   ],
   "source": [
    "for i in range(10):\n",
    "    simulation(3600, 10)"
   ]
  },
  {
   "cell_type": "markdown",
   "metadata": {},
   "source": [
    "## Deque"
   ]
  },
  {
   "cell_type": "code",
   "execution_count": 18,
   "metadata": {},
   "outputs": [],
   "source": [
    "class Deque:\n",
    "    \n",
    "    def __init__(self):\n",
    "        self.items = []\n",
    "        \n",
    "    def addRear(self, item):\n",
    "        self.items.insert(0, item)\n",
    "        \n",
    "    def addFront(self, item):\n",
    "        self.items.append(item)\n",
    "        \n",
    "    def removeRear(self):\n",
    "        return self.items.pop(0)\n",
    "    \n",
    "    def removeFront(self):\n",
    "        return self.items.pop()\n",
    "    \n",
    "    def isEmpty(self):\n",
    "        return self.items == []\n",
    "    \n",
    "    def size(self):\n",
    "        return len(self.items)"
   ]
  },
  {
   "cell_type": "markdown",
   "metadata": {},
   "source": [
    "### Palindrome Checker"
   ]
  },
  {
   "cell_type": "code",
   "execution_count": 21,
   "metadata": {},
   "outputs": [],
   "source": [
    "def palchecker(mystr):\n",
    "    \n",
    "    char_dequeue = Deque()\n",
    "    \n",
    "    for ch in mystr:\n",
    "        char_dequeue.addFront(ch)\n",
    "        \n",
    "    equal_flag = True\n",
    "    \n",
    "    while char_dequeue.size() > 1 and equal_flag:\n",
    "        if char_dequeue.removeFront() != char_dequeue.removeRear():\n",
    "            equal_flag = False\n",
    "    \n",
    "    return equal_flag"
   ]
  },
  {
   "cell_type": "code",
   "execution_count": 23,
   "metadata": {},
   "outputs": [
    {
     "name": "stdout",
     "output_type": "stream",
     "text": [
      "False\n",
      "True\n"
     ]
    }
   ],
   "source": [
    "print(palchecker(\"lsdkjfskf\"))\n",
    "print(palchecker(\"AgammagA\"))"
   ]
  },
  {
   "cell_type": "markdown",
   "metadata": {},
   "source": [
    "## Linked List"
   ]
  },
  {
   "cell_type": "markdown",
   "metadata": {},
   "source": [
    "### Node Class\n",
    "The basic building block for the linked list implementation is the node. Each node object must hold at least two pieces of information. First, the node must contain the list item itself. We will call this the data field of the node. In addition, each node must hold a reference to the next node. "
   ]
  },
  {
   "cell_type": "code",
   "execution_count": 100,
   "metadata": {},
   "outputs": [],
   "source": [
    "class Node:\n",
    "    \n",
    "    def __init__(self, initdata):\n",
    "        self.data = initdata\n",
    "        self.next = None\n",
    "        \n",
    "    def getData(self):\n",
    "        return self.data\n",
    "    \n",
    "    def getNext(self):\n",
    "        return self.next\n",
    "    \n",
    "    def setData(self, newdata):\n",
    "        self.data = newdata\n",
    "        \n",
    "    def setNext(self, newnext):\n",
    "        self.next = newnext\n"
   ]
  },
  {
   "cell_type": "code",
   "execution_count": 83,
   "metadata": {},
   "outputs": [
    {
     "name": "stdout",
     "output_type": "stream",
     "text": [
      "90\n"
     ]
    }
   ],
   "source": [
    "temp = Node(90)\n",
    "print(temp.getData())"
   ]
  },
  {
   "cell_type": "markdown",
   "metadata": {},
   "source": [
    "### Unordered List"
   ]
  },
  {
   "cell_type": "code",
   "execution_count": 110,
   "metadata": {},
   "outputs": [],
   "source": [
    "class UnorderedList:\n",
    "    \n",
    "    def __init__(self):\n",
    "        self.head = None\n",
    "        self.tail = None\n",
    "        self.length = 0\n",
    "        \n",
    "    def isEmpty(self):\n",
    "        return self.head == None\n",
    "        \n",
    "    def add(self, item):\n",
    "        temp = Node(item)\n",
    "        temp.setNext(self.head)\n",
    "        self.head = temp\n",
    "        if self.tail is None:\n",
    "            self.tail = temp\n",
    "        self.length += 1\n",
    "        \n",
    "    def __str__(self):\n",
    "        current = self.head\n",
    "        string = '['\n",
    "        while current is not None:\n",
    "            string += str(current.getData())\n",
    "            if current.getNext() is not None:\n",
    "                string += ', '\n",
    "            current = current.getNext()\n",
    "        string += ']'\n",
    "        return string\n",
    "        \n",
    "    def ssize(self):  # O(n)\n",
    "        current = self.head\n",
    "        count = 0\n",
    "        while current != None:\n",
    "            count += 1\n",
    "            current = current.getnext()\n",
    "        return count\n",
    "    \n",
    "    def size(length):   # O(1)\n",
    "        return self.length\n",
    "    \n",
    "    def search(self, item):\n",
    "        current = self.head\n",
    "        found = False\n",
    "        \n",
    "        while current != None and not found:\n",
    "            if current.getData() == item:\n",
    "                found = True\n",
    "            else:\n",
    "                current = current.getNext()\n",
    "                \n",
    "        return found\n",
    "    \n",
    "    def remove(self, item):\n",
    "        current = self.head\n",
    "        previous = None\n",
    "        found = False\n",
    "        \n",
    "        while not found:\n",
    "            if current.getData() == item:\n",
    "                found = True\n",
    "            else:\n",
    "                previous = current\n",
    "                current = current.getNext()\n",
    "        \n",
    "        if previous == None:\n",
    "            # The item is the first item\n",
    "            self.head = current.getNext()\n",
    "        else:\n",
    "            if current.getNext() == None:\n",
    "                self.tail = previous  # in case the current tail is removed\n",
    "            previous.setNext(current.getNext())\n",
    "        self.length -= 1\n",
    "            \n",
    "            \n",
    "    def sappend(self, item):  # O(n)\n",
    "        current = self.head\n",
    "        if current:\n",
    "            while current.getNext() is not None:\n",
    "                current = current.getnext()\n",
    "            current.setNext(Node(item))\n",
    "        else:\n",
    "            self.head = Node(item)\n",
    "            \n",
    "    def append(self, item):  # O(1)\n",
    "        temp = Node(item)\n",
    "        last = self.tail\n",
    "        \n",
    "        if last:\n",
    "            last.setNext(temp)\n",
    "        else:\n",
    "            self.head = temp\n",
    "            \n",
    "        self.tail = temp\n",
    "        self.length += 1\n",
    "        \n",
    "    def index(self, item):\n",
    "        pos = 0\n",
    "        current = self.head\n",
    "        found = False\n",
    "        while current is not None and not found:\n",
    "            if current.getData() == item:\n",
    "                found = True\n",
    "            else:\n",
    "                current = current.getNext()\n",
    "                pos += 1\n",
    "        if not found:\n",
    "            raise ValueError('Value not present in the List')\n",
    "        return pos\n",
    "    \n",
    "    def insert(self, index, item):\n",
    "        temp = Node(item)\n",
    "        current = self.head\n",
    "        previous = None\n",
    "        count = 0\n",
    "        found = False\n",
    "        if index > self.length-1:\n",
    "            raise IndexError('List Index Out Of Range')\n",
    "        while current is not None and not found:\n",
    "            if count == index:\n",
    "                found = True\n",
    "            else:\n",
    "                previous = current\n",
    "                current = current.getNext()\n",
    "                count += 1\n",
    "        if previous is None:\n",
    "            temp.setNext(self.head)\n",
    "            self.head = temp\n",
    "        else:\n",
    "            temp.setNext(current)\n",
    "            previous.setNext(temp)\n",
    "        self.length += 1\n",
    "        \n",
    "    def pop(self, index=None):\n",
    "        if index == None:\n",
    "            index = self.length - 1\n",
    "        \n",
    "        if index > self.length - 1:\n",
    "            raise IndexError('List Index out of Range')\n",
    "            \n",
    "        current = self.head\n",
    "        previous = None\n",
    "        count = 0\n",
    "        found = False\n",
    "        \n",
    "        while current is not None and not found:\n",
    "            if count == index:\n",
    "                found = True\n",
    "            else:\n",
    "                previous = current\n",
    "                current = current.getNext()\n",
    "                count += 1\n",
    "        if previous is None:\n",
    "            self.head = current.getnext()\n",
    "            if current.getNext() == None:\n",
    "                self.tail = current.getNext()\n",
    "        else:\n",
    "            self.tail = previous\n",
    "            previous.setNext(current.getNext())\n",
    "        self.length -= 1\n",
    "        \n",
    "        return current.getData()\n",
    "            \n",
    "        "
   ]
  },
  {
   "cell_type": "code",
   "execution_count": 111,
   "metadata": {},
   "outputs": [],
   "source": [
    "mylist = UnorderedList()"
   ]
  },
  {
   "cell_type": "code",
   "execution_count": 112,
   "metadata": {},
   "outputs": [
    {
     "data": {
      "text/plain": [
       "31"
      ]
     },
     "execution_count": 112,
     "metadata": {},
     "output_type": "execute_result"
    }
   ],
   "source": [
    "mylist.add(31)\n",
    "mylist.add(77)\n",
    "mylist.add(17)\n",
    "mylist.add(93)\n",
    "mylist.add(26)\n",
    "mylist.add(54)\n",
    "mylist.pop()"
   ]
  },
  {
   "cell_type": "code",
   "execution_count": 113,
   "metadata": {},
   "outputs": [
    {
     "name": "stdout",
     "output_type": "stream",
     "text": [
      "[54, 26, 93, 17, 77]\n"
     ]
    }
   ],
   "source": [
    "print(mylist)"
   ]
  },
  {
   "cell_type": "code",
   "execution_count": 98,
   "metadata": {},
   "outputs": [
    {
     "name": "stdout",
     "output_type": "stream",
     "text": [
      "5\n"
     ]
    }
   ],
   "source": [
    "print(mylist.index(31))"
   ]
  },
  {
   "cell_type": "code",
   "execution_count": 88,
   "metadata": {},
   "outputs": [
    {
     "data": {
      "text/plain": [
       "True"
      ]
     },
     "execution_count": 88,
     "metadata": {},
     "output_type": "execute_result"
    }
   ],
   "source": [
    "mylist.search(77)"
   ]
  },
  {
   "cell_type": "markdown",
   "metadata": {},
   "source": [
    "## TODO Implement Ordered List"
   ]
  },
  {
   "cell_type": "code",
   "execution_count": null,
   "metadata": {},
   "outputs": [],
   "source": []
  },
  {
   "cell_type": "code",
   "execution_count": null,
   "metadata": {},
   "outputs": [],
   "source": []
  }
 ],
 "metadata": {
  "kernelspec": {
   "display_name": "Python 3",
   "language": "python",
   "name": "python3"
  },
  "language_info": {
   "codemirror_mode": {
    "name": "ipython",
    "version": 3
   },
   "file_extension": ".py",
   "mimetype": "text/x-python",
   "name": "python",
   "nbconvert_exporter": "python",
   "pygments_lexer": "ipython3",
   "version": "3.6.6"
  }
 },
 "nbformat": 4,
 "nbformat_minor": 2
}
