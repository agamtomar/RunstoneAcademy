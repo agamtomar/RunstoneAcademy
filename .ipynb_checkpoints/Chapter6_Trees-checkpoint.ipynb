{
 "cells": [
  {
   "cell_type": "markdown",
   "metadata": {},
   "source": [
    "# Trees"
   ]
  },
  {
   "cell_type": "markdown",
   "metadata": {},
   "source": [
    "## List of lists representation"
   ]
  },
  {
   "cell_type": "code",
   "execution_count": 1,
   "metadata": {},
   "outputs": [],
   "source": [
    "def BinaryTree(r): \n",
    "    return [r, [], []]\n",
    "\n",
    "def insertLeft(root, newBranch):\n",
    "    t = root.pop(1)\n",
    "    if len(t) > 1:\n",
    "        root.insert(1, [newBranch, t, []])  # when tree has 2 childs then branch is added to the left and tree alread present there moved to right as a child\n",
    "    else:\n",
    "        root.insert(1, [newBranch, [], []])  # When tree has 1 child then new branch addedto left with two empyy nodes\n",
    "    return root\n",
    "\n",
    "def insertRight(root, newBranch):\n",
    "    t = root.pop(2)\n",
    "    if len(t) > 1:\n",
    "        root.insert(1, [newBranch, [], t])\n",
    "    else:\n",
    "        root.insert(1, [newBranch, [], []])\n",
    "    return root\n",
    "    \n",
    "def getRootVal(root):\n",
    "    return root[0]\n",
    "\n",
    "def setRootVal(root, newVal):\n",
    "    root[0] = newVal\n",
    "    \n",
    "def getLeftChild(root):\n",
    "    return root[1]\n",
    "\n",
    "def getRightChild(root):\n",
    "    return root[2]\n"
   ]
  },
  {
   "cell_type": "code",
   "execution_count": 4,
   "metadata": {},
   "outputs": [
    {
     "name": "stdout",
     "output_type": "stream",
     "text": [
      "[7, [], [5, [4, [], []], []]]\n",
      "[3, [9, [], [5, [4, [], []], []]], [6, [], []]]\n",
      "[3, [9, [11, [], []], [5, [4, [], []], []]], [6, [], []]]\n",
      "[]\n"
     ]
    }
   ],
   "source": [
    "r = BinaryTree(3)\n",
    "insertLeft(r,4)\n",
    "insertLeft(r,5)\n",
    "insertRight(r,6)\n",
    "insertRight(r,7)\n",
    "l = getLeftChild(r)\n",
    "print(l)\n",
    "\n",
    "setRootVal(l,9)\n",
    "print(r)\n",
    "insertLeft(l,11)\n",
    "print(r)\n",
    "print(getRightChild(getRightChild(r)))"
   ]
  },
  {
   "cell_type": "markdown",
   "metadata": {},
   "source": [
    "## Object Orientied Representation"
   ]
  },
  {
   "cell_type": "code",
   "execution_count": 21,
   "metadata": {},
   "outputs": [
    {
     "name": "stdout",
     "output_type": "stream",
     "text": [
      "a\n",
      "None\n",
      "<__main__.BinaryTree object at 0x00000230E0DC76D8>\n",
      "b\n",
      "<__main__.BinaryTree object at 0x00000230E0DC75C0>\n",
      "c\n",
      "hello\n"
     ]
    }
   ],
   "source": [
    "class BinaryTree:\n",
    "    def __init__(self,rootObj):\n",
    "        self.key = rootObj\n",
    "        self.leftChild = None\n",
    "        self.rightChild = None\n",
    "\n",
    "    def insertLeft(self,newNode):\n",
    "        if self.leftChild == None:\n",
    "            self.leftChild = BinaryTree(newNode)\n",
    "        else:\n",
    "            t = BinaryTree(newNode)\n",
    "            t.leftChild = self.leftChild\n",
    "            self.leftChild = t\n",
    "\n",
    "    def insertRight(self,newNode):\n",
    "        if self.rightChild == None:\n",
    "            self.rightChild = BinaryTree(newNode)\n",
    "        else:\n",
    "            t = BinaryTree(newNode)\n",
    "            t.rightChild = self.rightChild\n",
    "            self.rightChild = t\n",
    "\n",
    "\n",
    "    def getRightChild(self):\n",
    "        return self.rightChild\n",
    "\n",
    "    def getLeftChild(self):\n",
    "        return self.leftChild\n",
    "\n",
    "    def setRootVal(self,obj):\n",
    "        self.key = obj\n",
    "\n",
    "    def getRootVal(self):\n",
    "        return self.key\n",
    "\n",
    "\n",
    "r = BinaryTree('a')\n",
    "print(r.getRootVal())\n",
    "print(r.getLeftChild())\n",
    "r.insertLeft('b')\n",
    "print(r.getLeftChild())\n",
    "print(r.getLeftChild().getRootVal())\n",
    "r.insertRight('c')\n",
    "print(r.getRightChild())\n",
    "print(r.getRightChild().getRootVal())\n",
    "r.getRightChild().setRootVal('hello')\n",
    "print(r.getRightChild().getRootVal())\n"
   ]
  },
  {
   "cell_type": "markdown",
   "metadata": {},
   "source": [
    "## Parse Trees"
   ]
  },
  {
   "cell_type": "code",
   "execution_count": 32,
   "metadata": {},
   "outputs": [
    {
     "name": "stdout",
     "output_type": "stream",
     "text": [
      "10\n",
      "5\n",
      "+\n",
      "3\n",
      "*\n"
     ]
    }
   ],
   "source": [
    "from pythonds.basic.stack import Stack\n",
    "from pythonds.trees.binaryTree import BinaryTree\n",
    "\n",
    "def buildParseTree(fpexp):\n",
    "    fplist = fpexp.split()\n",
    "    pStack = Stack()\n",
    "    eTree = BinaryTree('')\n",
    "    pStack.push(eTree)\n",
    "    currentTree = eTree\n",
    "\n",
    "    for i in fplist:\n",
    "        if i == '(':\n",
    "            currentTree.insertLeft('')\n",
    "            pStack.push(currentTree)\n",
    "            currentTree = currentTree.getLeftChild()\n",
    "\n",
    "        elif i in ['+', '-', '*', '/']:\n",
    "            currentTree.setRootVal(i)\n",
    "            currentTree.insertRight('')\n",
    "            pStack.push(currentTree)\n",
    "            currentTree = currentTree.getRightChild()\n",
    "\n",
    "        elif i == ')':\n",
    "            currentTree = pStack.pop()\n",
    "\n",
    "        elif i not in ['(', '+', '-', '*', '/', ')']:\n",
    "            try:\n",
    "                currentTree.setRootVal(int(i))\n",
    "                parent = pStack.pop()\n",
    "                currentTree = parent\n",
    "\n",
    "            except ValueError:\n",
    "                raise ValueError(\"token '{}' is not a valid integer\".format(i))\n",
    "\n",
    "    return eTree\n",
    "\n",
    "pt = buildParseTree(\"( ( 10 + 5 ) * 3 )\")\n",
    "pt.postorder()  #defined and explained in the next section\n"
   ]
  },
  {
   "cell_type": "code",
   "execution_count": 33,
   "metadata": {},
   "outputs": [],
   "source": [
    "def evaluate(parseTree):\n",
    "    opers = {'+':operator.add, '-':operator.sub, '*':operator.mul, '/':operator.truediv}\n",
    "\n",
    "    leftC = parseTree.getLeftChild()\n",
    "    rightC = parseTree.getRightChild()\n",
    "\n",
    "    if leftC and rightC:\n",
    "        fn = opers[parseTree.getRootVal()]\n",
    "        return fn(evaluate(leftC),evaluate(rightC))\n",
    "    else:\n",
    "        return parseTree.getRootVal()"
   ]
  },
  {
   "cell_type": "code",
   "execution_count": null,
   "metadata": {},
   "outputs": [],
   "source": []
  },
  {
   "cell_type": "code",
   "execution_count": null,
   "metadata": {},
   "outputs": [],
   "source": []
  }
 ],
 "metadata": {
  "kernelspec": {
   "display_name": "Python 3",
   "language": "python",
   "name": "python3"
  },
  "language_info": {
   "codemirror_mode": {
    "name": "ipython",
    "version": 3
   },
   "file_extension": ".py",
   "mimetype": "text/x-python",
   "name": "python",
   "nbconvert_exporter": "python",
   "pygments_lexer": "ipython3",
   "version": "3.6.6"
  }
 },
 "nbformat": 4,
 "nbformat_minor": 2
}
