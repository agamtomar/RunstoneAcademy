{
 "cells": [
  {
   "cell_type": "markdown",
   "metadata": {},
   "source": [
    "## Stack"
   ]
  },
  {
   "cell_type": "code",
   "execution_count": 42,
   "metadata": {},
   "outputs": [],
   "source": [
    "class Stack:\n",
    "\n",
    "    def __init__(self):\n",
    "        self.items = []\n",
    "\n",
    "    def isEmpty(self):\n",
    "        return self.items == []\n",
    "\n",
    "    def push(self, item):\n",
    "        self.items.append(item)\n",
    "\n",
    "    def pop(self):\n",
    "        return self.items.pop()\n",
    "\n",
    "    def peek(self):\n",
    "        if len(self.items) > 0:\n",
    "            return self.items[-1]\n",
    "        else:\n",
    "            print('Stack is Empty')\n",
    "\n",
    "    def size(self):\n",
    "        return len(self.items)"
   ]
  },
  {
   "cell_type": "code",
   "execution_count": 43,
   "metadata": {},
   "outputs": [
    {
     "name": "stdout",
     "output_type": "stream",
     "text": [
      "Stack is Empty\n",
      "None\n",
      "True\n",
      "dog\n"
     ]
    }
   ],
   "source": [
    "s = Stack()\n",
    "\n",
    "print(s.peek())\n",
    "print(s.isEmpty())\n",
    "\n",
    "s.push(4)\n",
    "s.push('dog')\n",
    "print(s.peek())"
   ]
  },
  {
   "cell_type": "markdown",
   "metadata": {},
   "source": [
    "### Write a function revstring(mystr) that uses a stack to reverse the characters in a string."
   ]
  },
  {
   "cell_type": "code",
   "execution_count": 44,
   "metadata": {},
   "outputs": [],
   "source": [
    "\n",
    "def revstring(mystr):\n",
    "    str_stack = Stack()\n",
    "    for s in mystr:\n",
    "        str_stack.push(s)\n",
    "        \n",
    "    rev_str = ''\n",
    "    for s in range(len(mystr)):\n",
    "        rev_str += str_stack.peek()\n",
    "        str_stack.pop()\n",
    "        \n",
    "    return rev_str"
   ]
  },
  {
   "cell_type": "code",
   "execution_count": 45,
   "metadata": {},
   "outputs": [
    {
     "name": "stdout",
     "output_type": "stream",
     "text": [
      "987654321\n"
     ]
    }
   ],
   "source": [
    "print(revstring('123456789'))"
   ]
  },
  {
   "cell_type": "markdown",
   "metadata": {},
   "source": [
    "### Checking Valid Parenthesis"
   ]
  },
  {
   "cell_type": "code",
   "execution_count": 46,
   "metadata": {},
   "outputs": [],
   "source": [
    "def parChecker(SymbolStr):\n",
    "    \n",
    "    my_stack = Stack()\n",
    "    len_str = len(SymbolStr)\n",
    "    balanced = True\n",
    "    idx = 0\n",
    "    \n",
    "    while idx < len_str and balanced:\n",
    "        if SymbolStr[idx] == '(':\n",
    "            symbol = SymbolStr[idx]\n",
    "            my_stack.push(symbol)\n",
    "            \n",
    "        else:\n",
    "            if my_stack.isEmpty():\n",
    "                balanced = False\n",
    "            else:\n",
    "                my_stack.pop()\n",
    "        \n",
    "        idx += 1\n",
    "        \n",
    "    if balanced and my_stack.isEmpty():\n",
    "        return True\n",
    "    else:\n",
    "        return False"
   ]
  },
  {
   "cell_type": "code",
   "execution_count": 47,
   "metadata": {},
   "outputs": [
    {
     "name": "stdout",
     "output_type": "stream",
     "text": [
      "True\n",
      "False\n"
     ]
    }
   ],
   "source": [
    "print(parChecker('((()))'))\n",
    "print(parChecker('(()()()'))"
   ]
  },
  {
   "cell_type": "code",
   "execution_count": 50,
   "metadata": {},
   "outputs": [],
   "source": [
    "def parChecker2(SymbolStr):\n",
    "    \n",
    "    my_stack = Stack()\n",
    "    len_str = len(SymbolStr)\n",
    "    balanced = True\n",
    "    idx = 0\n",
    "    \n",
    "    while idx < len_str and balanced:\n",
    "        symbol = SymbolStr[idx]\n",
    "        if SymbolStr[idx] in '[({':\n",
    "            my_stack.push(symbol)\n",
    "            \n",
    "        else:\n",
    "            if my_stack.isEmpty():\n",
    "                balanced = False\n",
    "            else:\n",
    "                top = my_stack.pop()\n",
    "                if not matches(top, symbol):\n",
    "                    balanced = False\n",
    "                \n",
    "        idx += 1\n",
    "        \n",
    "    if balanced and my_stack.isEmpty():\n",
    "        return True\n",
    "    else:\n",
    "        return False\n",
    "    \n",
    "def matches(open, close):\n",
    "    opens = \"([{\"\n",
    "    closers = \")]}\"\n",
    "    return opens.index(open) == closers.index(close)\n",
    "        "
   ]
  },
  {
   "cell_type": "code",
   "execution_count": 49,
   "metadata": {},
   "outputs": [
    {
     "name": "stdout",
     "output_type": "stream",
     "text": [
      "True\n",
      "False\n"
     ]
    }
   ],
   "source": [
    "print(parChecker2('[{((()))}]'))\n",
    "print(parChecker2('(()()()'))"
   ]
  },
  {
   "cell_type": "markdown",
   "metadata": {},
   "source": [
    "### Divide by 2"
   ]
  },
  {
   "cell_type": "code",
   "execution_count": 53,
   "metadata": {},
   "outputs": [
    {
     "name": "stdout",
     "output_type": "stream",
     "text": [
      "101010\n"
     ]
    }
   ],
   "source": [
    "def DivideBy2(decNumber):\n",
    "    \n",
    "    rem_stack = Stack()\n",
    "    \n",
    "    while decNumber > 0:\n",
    "        rem = decNumber % 2\n",
    "        rem_stack.push(rem)\n",
    "        decNumber = decNumber // 2\n",
    "        \n",
    "    binString = \"\"\n",
    "    while not rem_stack.isEmpty():\n",
    "        binString = binString + str(rem_stack.pop())\n",
    "        \n",
    "    return binString\n",
    "\n",
    "print(DivideBy2(42))\n",
    "    \n",
    "    "
   ]
  },
  {
   "cell_type": "markdown",
   "metadata": {},
   "source": [
    "### Generalizing DivideBy2"
   ]
  },
  {
   "cell_type": "code",
   "execution_count": 58,
   "metadata": {},
   "outputs": [
    {
     "name": "stdout",
     "output_type": "stream",
     "text": [
      "10\n"
     ]
    }
   ],
   "source": [
    "def baseConverter(decNumber, base):\n",
    "    \n",
    "    digits = \"0123456789ABCDEF\"\n",
    "    \n",
    "    rem_stack = Stack()\n",
    "    \n",
    "    while decNumber > 0:\n",
    "        rem = decNumber % base\n",
    "        rem_stack.push(rem)\n",
    "        decNumber = decNumber // base\n",
    "        \n",
    "    binString = \"\"\n",
    "    while not rem_stack.isEmpty():\n",
    "        binString = binString + digits[rem_stack.pop()]\n",
    "        \n",
    "    return binString\n",
    "\n",
    "print(baseConverter(26, 26))"
   ]
  },
  {
   "cell_type": "code",
   "execution_count": null,
   "metadata": {},
   "outputs": [],
   "source": []
  }
 ],
 "metadata": {
  "kernelspec": {
   "display_name": "Python 3",
   "language": "python",
   "name": "python3"
  },
  "language_info": {
   "codemirror_mode": {
    "name": "ipython",
    "version": 3
   },
   "file_extension": ".py",
   "mimetype": "text/x-python",
   "name": "python",
   "nbconvert_exporter": "python",
   "pygments_lexer": "ipython3",
   "version": "3.6.6"
  }
 },
 "nbformat": 4,
 "nbformat_minor": 2
}
